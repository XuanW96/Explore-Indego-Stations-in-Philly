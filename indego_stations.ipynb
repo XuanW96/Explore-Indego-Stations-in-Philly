{
 "cells": [
  {
   "cell_type": "code",
   "execution_count": 1,
   "metadata": {},
   "outputs": [],
   "source": [
    "from matplotlib import pyplot as plt\n",
    "import numpy as np\n",
    "import pandas as pd\n",
    "import geopandas as gpd"
   ]
  },
  {
   "cell_type": "code",
   "execution_count": 3,
   "metadata": {},
   "outputs": [],
   "source": [
    "import osmnx as ox\n",
    "import networkx as nx"
   ]
  },
  {
   "cell_type": "code",
   "execution_count": 2,
   "metadata": {},
   "outputs": [
    {
     "name": "stdout",
     "output_type": "stream",
     "text": [
      "Collecting osmnx\n",
      "  Using cached https://files.pythonhosted.org/packages/69/77/98cbee7f94abe2c60013fd8751f2b2d6054d48078c61f9774cff0b341f43/osmnx-0.10-py2.py3-none-any.whl\n",
      "Requirement already satisfied: Shapely>=1.6 in /anaconda3/lib/python3.7/site-packages (from osmnx) (1.6.4.post2)\n",
      "Collecting networkx>=2.3 (from osmnx)\n",
      "\u001b[?25l  Downloading https://files.pythonhosted.org/packages/85/08/f20aef11d4c343b557e5de6b9548761811eb16e438cee3d32b1c66c8566b/networkx-2.3.zip (1.7MB)\n",
      "\u001b[K    100% |████████████████████████████████| 1.8MB 9.8MB/s eta 0:00:01\n",
      "\u001b[?25hCollecting numpy>=1.16 (from osmnx)\n",
      "\u001b[?25l  Downloading https://files.pythonhosted.org/packages/c1/4b/78119133136c20e5ad2e01bf72b0633241defd619939908223cd394a9c32/numpy-1.17.0-cp37-cp37m-macosx_10_6_intel.macosx_10_9_intel.macosx_10_9_x86_64.macosx_10_10_intel.macosx_10_10_x86_64.whl (15.0MB)\n",
      "\u001b[K    100% |████████████████████████████████| 15.0MB 2.7MB/s eta 0:00:01\n",
      "\u001b[?25hCollecting pandas>=0.24 (from osmnx)\n",
      "\u001b[?25l  Downloading https://files.pythonhosted.org/packages/39/b7/441375a152f3f9929ff8bc2915218ff1a063a59d7137ae0546db616749f9/pandas-0.25.0-cp37-cp37m-macosx_10_9_x86_64.macosx_10_10_x86_64.whl (10.1MB)\n",
      "\u001b[K    100% |████████████████████████████████| 10.1MB 4.8MB/s eta 0:00:01\n",
      "\u001b[?25hCollecting Rtree>=0.8.3 (from osmnx)\n",
      "  Downloading https://files.pythonhosted.org/packages/33/0d/0bcb0fdd759570e85697189f675fa462131e5636482f2832288bbe4bb6f7/Rtree-0.8.3-py3-none-any.whl\n",
      "Requirement already satisfied: matplotlib>=2.2 in /anaconda3/lib/python3.7/site-packages (from osmnx) (3.0.2)\n",
      "Collecting descartes>=1.1 (from osmnx)\n",
      "  Downloading https://files.pythonhosted.org/packages/e5/b6/1ed2eb03989ae574584664985367ba70cd9cf8b32ee8cad0e8aaeac819f3/descartes-1.1.0-py3-none-any.whl\n",
      "Requirement already satisfied: geopandas>=0.5 in /anaconda3/lib/python3.7/site-packages (from osmnx) (0.5.1)\n",
      "Requirement already satisfied: requests>=2.21 in /anaconda3/lib/python3.7/site-packages (from osmnx) (2.21.0)\n",
      "Requirement already satisfied: decorator>=4.3.0 in /anaconda3/lib/python3.7/site-packages (from networkx>=2.3->osmnx) (4.3.0)\n",
      "Requirement already satisfied: python-dateutil>=2.6.1 in /anaconda3/lib/python3.7/site-packages (from pandas>=0.24->osmnx) (2.7.5)\n",
      "Requirement already satisfied: pytz>=2017.2 in /anaconda3/lib/python3.7/site-packages (from pandas>=0.24->osmnx) (2018.7)\n",
      "Requirement already satisfied: setuptools in /anaconda3/lib/python3.7/site-packages (from Rtree>=0.8.3->osmnx) (40.6.3)\n",
      "Requirement already satisfied: cycler>=0.10 in /anaconda3/lib/python3.7/site-packages (from matplotlib>=2.2->osmnx) (0.10.0)\n",
      "Requirement already satisfied: kiwisolver>=1.0.1 in /anaconda3/lib/python3.7/site-packages (from matplotlib>=2.2->osmnx) (1.0.1)\n",
      "Requirement already satisfied: pyparsing!=2.0.4,!=2.1.2,!=2.1.6,>=2.0.1 in /anaconda3/lib/python3.7/site-packages (from matplotlib>=2.2->osmnx) (2.3.0)\n",
      "Requirement already satisfied: pyproj in /anaconda3/lib/python3.7/site-packages (from geopandas>=0.5->osmnx) (2.2.1)\n",
      "Requirement already satisfied: fiona in /anaconda3/lib/python3.7/site-packages (from geopandas>=0.5->osmnx) (1.8.6)\n",
      "Requirement already satisfied: chardet<3.1.0,>=3.0.2 in /anaconda3/lib/python3.7/site-packages (from requests>=2.21->osmnx) (3.0.4)\n",
      "Requirement already satisfied: urllib3<1.25,>=1.21.1 in /anaconda3/lib/python3.7/site-packages (from requests>=2.21->osmnx) (1.24.1)\n",
      "Requirement already satisfied: certifi>=2017.4.17 in /anaconda3/lib/python3.7/site-packages (from requests>=2.21->osmnx) (2018.11.29)\n",
      "Requirement already satisfied: idna<2.9,>=2.5 in /anaconda3/lib/python3.7/site-packages (from requests>=2.21->osmnx) (2.8)\n",
      "Requirement already satisfied: six>=1.5 in /anaconda3/lib/python3.7/site-packages (from python-dateutil>=2.6.1->pandas>=0.24->osmnx) (1.12.0)\n",
      "Requirement already satisfied: click<8,>=4.0 in /anaconda3/lib/python3.7/site-packages (from fiona->geopandas>=0.5->osmnx) (7.0)\n",
      "Requirement already satisfied: attrs>=17 in /anaconda3/lib/python3.7/site-packages (from fiona->geopandas>=0.5->osmnx) (18.2.0)\n",
      "Requirement already satisfied: munch in /anaconda3/lib/python3.7/site-packages (from fiona->geopandas>=0.5->osmnx) (2.3.2)\n",
      "Requirement already satisfied: click-plugins>=1.0 in /anaconda3/lib/python3.7/site-packages (from fiona->geopandas>=0.5->osmnx) (1.1.1)\n",
      "Requirement already satisfied: cligj>=0.5 in /anaconda3/lib/python3.7/site-packages (from fiona->geopandas>=0.5->osmnx) (0.5.0)\n",
      "Building wheels for collected packages: networkx\n",
      "  Running setup.py bdist_wheel for networkx ... \u001b[?25ldone\n",
      "\u001b[?25h  Stored in directory: /Users/wangzixuan/Library/Caches/pip/wheels/de/63/64/3699be2a9d0ccdb37c7f16329acf3863fd76eda58c39c737af\n",
      "Successfully built networkx\n",
      "Installing collected packages: networkx, numpy, pandas, Rtree, descartes, osmnx\n",
      "  Found existing installation: networkx 2.2\n",
      "    Uninstalling networkx-2.2:\n",
      "      Successfully uninstalled networkx-2.2\n",
      "  Found existing installation: numpy 1.15.4\n",
      "    Uninstalling numpy-1.15.4:\n",
      "      Successfully uninstalled numpy-1.15.4\n",
      "  Found existing installation: pandas 0.23.4\n",
      "    Uninstalling pandas-0.23.4:\n",
      "      Successfully uninstalled pandas-0.23.4\n",
      "Successfully installed Rtree-0.8.3 descartes-1.1.0 networkx-2.3 numpy-1.17.0 osmnx-0.10 pandas-0.25.0\n"
     ]
    }
   ],
   "source": [
    "! pip install osmnx"
   ]
  },
  {
   "cell_type": "code",
   "execution_count": 5,
   "metadata": {},
   "outputs": [],
   "source": [
    "from IPython.display import IFrame "
   ]
  },
  {
   "cell_type": "code",
   "execution_count": 6,
   "metadata": {},
   "outputs": [],
   "source": [
    "import folium"
   ]
  },
  {
   "cell_type": "code",
   "execution_count": 7,
   "metadata": {},
   "outputs": [],
   "source": [
    "from folium.plugins import HeatMap"
   ]
  },
  {
   "cell_type": "code",
   "execution_count": 8,
   "metadata": {},
   "outputs": [],
   "source": [
    "import requests\n",
    "import json"
   ]
  },
  {
   "cell_type": "code",
   "execution_count": 9,
   "metadata": {},
   "outputs": [],
   "source": [
    "# the base URL\n",
    "url = \"https://www.rideindego.com/stations/json\"\n",
    "# website request has benn banned, get user agent in the network tap \n",
    "headers = {'User-Agent':'Mozilla/5.0 (Macintosh; Intel Mac OS X 10_14_3) AppleWebKit/537.36 (KHTML, like Gecko) Chrome/73.0.3683.103 Safari/537.36'}\n",
    "# get the response\n",
    "r = requests.get(url,params={'format':'geojson'},headers=headers)"
   ]
  },
  {
   "cell_type": "code",
   "execution_count": 10,
   "metadata": {},
   "outputs": [],
   "source": [
    "# convert to a GeoDataFrame\n",
    "stations = gpd.GeoDataFrame.from_features(json.loads(r.text))"
   ]
  },
  {
   "cell_type": "code",
   "execution_count": 11,
   "metadata": {
    "scrolled": true
   },
   "outputs": [
    {
     "data": {
      "text/html": [
       "<div>\n",
       "<style scoped>\n",
       "    .dataframe tbody tr th:only-of-type {\n",
       "        vertical-align: middle;\n",
       "    }\n",
       "\n",
       "    .dataframe tbody tr th {\n",
       "        vertical-align: top;\n",
       "    }\n",
       "\n",
       "    .dataframe thead th {\n",
       "        text-align: right;\n",
       "    }\n",
       "</style>\n",
       "<table border=\"1\" class=\"dataframe\">\n",
       "  <thead>\n",
       "    <tr style=\"text-align: right;\">\n",
       "      <th></th>\n",
       "      <th>addressCity</th>\n",
       "      <th>addressState</th>\n",
       "      <th>addressStreet</th>\n",
       "      <th>addressZipCode</th>\n",
       "      <th>bikesAvailable</th>\n",
       "      <th>classicBikesAvailable</th>\n",
       "      <th>closeTime</th>\n",
       "      <th>docksAvailable</th>\n",
       "      <th>electricBikesAvailable</th>\n",
       "      <th>eventEnd</th>\n",
       "      <th>...</th>\n",
       "      <th>latitude</th>\n",
       "      <th>longitude</th>\n",
       "      <th>name</th>\n",
       "      <th>notes</th>\n",
       "      <th>openTime</th>\n",
       "      <th>publicText</th>\n",
       "      <th>smartBikesAvailable</th>\n",
       "      <th>timeZone</th>\n",
       "      <th>totalDocks</th>\n",
       "      <th>trikesAvailable</th>\n",
       "    </tr>\n",
       "  </thead>\n",
       "  <tbody>\n",
       "    <tr>\n",
       "      <th>0</th>\n",
       "      <td>Philadelphia</td>\n",
       "      <td>PA</td>\n",
       "      <td>1401 John F. Kennedy Blvd.</td>\n",
       "      <td>19102</td>\n",
       "      <td>3</td>\n",
       "      <td>3</td>\n",
       "      <td>03:55:00</td>\n",
       "      <td>27</td>\n",
       "      <td>0</td>\n",
       "      <td>None</td>\n",
       "      <td>...</td>\n",
       "      <td>39.95378</td>\n",
       "      <td>-75.16374</td>\n",
       "      <td>Municipal Services Building Plaza</td>\n",
       "      <td>None</td>\n",
       "      <td>04:00:00</td>\n",
       "      <td></td>\n",
       "      <td>0</td>\n",
       "      <td>Eastern Standard Time</td>\n",
       "      <td>30</td>\n",
       "      <td>0</td>\n",
       "    </tr>\n",
       "    <tr>\n",
       "      <th>1</th>\n",
       "      <td>Philadelphia</td>\n",
       "      <td>PA</td>\n",
       "      <td>191 S. 2nd St.</td>\n",
       "      <td>19106</td>\n",
       "      <td>9</td>\n",
       "      <td>9</td>\n",
       "      <td>03:55:00</td>\n",
       "      <td>3</td>\n",
       "      <td>0</td>\n",
       "      <td>None</td>\n",
       "      <td>...</td>\n",
       "      <td>39.94733</td>\n",
       "      <td>-75.14403</td>\n",
       "      <td>Welcome Park, NPS</td>\n",
       "      <td>None</td>\n",
       "      <td>04:00:00</td>\n",
       "      <td></td>\n",
       "      <td>0</td>\n",
       "      <td>Eastern Standard Time</td>\n",
       "      <td>13</td>\n",
       "      <td>0</td>\n",
       "    </tr>\n",
       "    <tr>\n",
       "      <th>2</th>\n",
       "      <td>Philadelphia</td>\n",
       "      <td>PA</td>\n",
       "      <td>246 S. 40th St.</td>\n",
       "      <td>19104</td>\n",
       "      <td>2</td>\n",
       "      <td>2</td>\n",
       "      <td>03:55:00</td>\n",
       "      <td>15</td>\n",
       "      <td>0</td>\n",
       "      <td>None</td>\n",
       "      <td>...</td>\n",
       "      <td>39.95220</td>\n",
       "      <td>-75.20311</td>\n",
       "      <td>40th &amp; Spruce</td>\n",
       "      <td>None</td>\n",
       "      <td>04:00:00</td>\n",
       "      <td></td>\n",
       "      <td>0</td>\n",
       "      <td>Eastern Standard Time</td>\n",
       "      <td>17</td>\n",
       "      <td>0</td>\n",
       "    </tr>\n",
       "    <tr>\n",
       "      <th>3</th>\n",
       "      <td>Philadelphia</td>\n",
       "      <td>PA</td>\n",
       "      <td>328 S. 11th St.</td>\n",
       "      <td>19107</td>\n",
       "      <td>15</td>\n",
       "      <td>15</td>\n",
       "      <td>03:55:00</td>\n",
       "      <td>0</td>\n",
       "      <td>0</td>\n",
       "      <td>None</td>\n",
       "      <td>...</td>\n",
       "      <td>39.94517</td>\n",
       "      <td>-75.15993</td>\n",
       "      <td>11th &amp; Pine, Kahn Park</td>\n",
       "      <td>None</td>\n",
       "      <td>04:00:00</td>\n",
       "      <td></td>\n",
       "      <td>0</td>\n",
       "      <td>Eastern Standard Time</td>\n",
       "      <td>15</td>\n",
       "      <td>0</td>\n",
       "    </tr>\n",
       "    <tr>\n",
       "      <th>4</th>\n",
       "      <td>Philadelphia</td>\n",
       "      <td>PA</td>\n",
       "      <td>1076 Berks Street</td>\n",
       "      <td>19122</td>\n",
       "      <td>5</td>\n",
       "      <td>5</td>\n",
       "      <td>03:55:00</td>\n",
       "      <td>13</td>\n",
       "      <td>0</td>\n",
       "      <td>None</td>\n",
       "      <td>...</td>\n",
       "      <td>39.98078</td>\n",
       "      <td>-75.15055</td>\n",
       "      <td>Temple University Station</td>\n",
       "      <td>None</td>\n",
       "      <td>04:00:00</td>\n",
       "      <td></td>\n",
       "      <td>0</td>\n",
       "      <td>Eastern Standard Time</td>\n",
       "      <td>19</td>\n",
       "      <td>0</td>\n",
       "    </tr>\n",
       "  </tbody>\n",
       "</table>\n",
       "<p>5 rows × 32 columns</p>\n",
       "</div>"
      ],
      "text/plain": [
       "    addressCity addressState               addressStreet addressZipCode  \\\n",
       "0  Philadelphia           PA  1401 John F. Kennedy Blvd.          19102   \n",
       "1  Philadelphia           PA              191 S. 2nd St.          19106   \n",
       "2  Philadelphia           PA             246 S. 40th St.          19104   \n",
       "3  Philadelphia           PA             328 S. 11th St.          19107   \n",
       "4  Philadelphia           PA           1076 Berks Street          19122   \n",
       "\n",
       "   bikesAvailable  classicBikesAvailable closeTime  docksAvailable  \\\n",
       "0               3                      3  03:55:00              27   \n",
       "1               9                      9  03:55:00               3   \n",
       "2               2                      2  03:55:00              15   \n",
       "3              15                     15  03:55:00               0   \n",
       "4               5                      5  03:55:00              13   \n",
       "\n",
       "   electricBikesAvailable eventEnd  ...  latitude longitude  \\\n",
       "0                       0     None  ...  39.95378 -75.16374   \n",
       "1                       0     None  ...  39.94733 -75.14403   \n",
       "2                       0     None  ...  39.95220 -75.20311   \n",
       "3                       0     None  ...  39.94517 -75.15993   \n",
       "4                       0     None  ...  39.98078 -75.15055   \n",
       "\n",
       "                                name  notes  openTime  publicText  \\\n",
       "0  Municipal Services Building Plaza   None  04:00:00               \n",
       "1                  Welcome Park, NPS   None  04:00:00               \n",
       "2                      40th & Spruce   None  04:00:00               \n",
       "3             11th & Pine, Kahn Park   None  04:00:00               \n",
       "4          Temple University Station   None  04:00:00               \n",
       "\n",
       "   smartBikesAvailable               timeZone  totalDocks trikesAvailable  \n",
       "0                    0  Eastern Standard Time          30               0  \n",
       "1                    0  Eastern Standard Time          13               0  \n",
       "2                    0  Eastern Standard Time          17               0  \n",
       "3                    0  Eastern Standard Time          15               0  \n",
       "4                    0  Eastern Standard Time          19               0  \n",
       "\n",
       "[5 rows x 32 columns]"
      ]
     },
     "execution_count": 11,
     "metadata": {},
     "output_type": "execute_result"
    }
   ],
   "source": [
    "# remove missing\n",
    "stations = stations.loc[stations.geometry.notnull()]\n",
    "stations.head()"
   ]
  },
  {
   "cell_type": "code",
   "execution_count": 12,
   "metadata": {},
   "outputs": [],
   "source": [
    "# make a NumPy array (use the \"values\" attribute)\n",
    "coordinates = stations[['latitude', 'longitude']].values"
   ]
  },
  {
   "cell_type": "code",
   "execution_count": 13,
   "metadata": {},
   "outputs": [
    {
     "data": {
      "text/plain": [
       "array([ 39.94733, -75.14403])"
      ]
     },
     "execution_count": 13,
     "metadata": {},
     "output_type": "execute_result"
    }
   ],
   "source": [
    "coordinates[1]"
   ]
  },
  {
   "cell_type": "code",
   "execution_count": 14,
   "metadata": {},
   "outputs": [],
   "source": [
    "# change the column class in order to cooporate with pop-up and color definition \n",
    "stations['classicBikesAvailable'] = stations['classicBikesAvailable'].astype(str) \n",
    "stations['bikesAvailable'] = stations['bikesAvailable'].astype(int) "
   ]
  },
  {
   "cell_type": "code",
   "execution_count": 15,
   "metadata": {},
   "outputs": [],
   "source": [
    "# define the icon color in terms of the number of available bikes \n",
    "# if there is less than 6 bikes available at the station, the icon would be red.\n",
    "def color_producer(value):\n",
    "    if value < 6:\n",
    "        return 'red'\n",
    "    else:\n",
    "        return 'green'"
   ]
  },
  {
   "cell_type": "code",
   "execution_count": 16,
   "metadata": {},
   "outputs": [],
   "source": [
    "from folium.plugins import MarkerCluster"
   ]
  },
  {
   "cell_type": "code",
   "execution_count": 17,
   "metadata": {},
   "outputs": [],
   "source": [
    "# markers styled by the number of available bikes \n",
    "# use marker cluster function to identify the cluster areas\n",
    "map2 = folium.Map(location=[39.95, -75.18], zoom_start=13)\n",
    "\n",
    "marker_cluster = MarkerCluster().add_to(map2)\n",
    "\n",
    "for point in range(0, len(coordinates)):\n",
    "    folium.Marker(coordinates[point],\n",
    "                  popup= folium.Popup('Available Bikes: '+ stations['classicBikesAvailable'][point], max_width=120),\n",
    "                  icon=folium.Icon(color=color_producer(stations['bikesAvailable'][point]))\n",
    "                 ).add_to(marker_cluster)\n",
    "    \n",
    "map2.save('indego_stations.html')"
   ]
  },
  {
   "cell_type": "code",
   "execution_count": 18,
   "metadata": {},
   "outputs": [
    {
     "data": {
      "text/html": [
       "\n",
       "        <iframe\n",
       "            width=\"900\"\n",
       "            height=\"600\"\n",
       "            src=\"indego_stations.html\"\n",
       "            frameborder=\"0\"\n",
       "            allowfullscreen\n",
       "        ></iframe>\n",
       "        "
      ],
      "text/plain": [
       "<IPython.lib.display.IFrame at 0x124581710>"
      ]
     },
     "execution_count": 18,
     "metadata": {},
     "output_type": "execute_result"
    }
   ],
   "source": [
    "IFrame('indego_stations.html', width=900, height=600)"
   ]
  },
  {
   "cell_type": "code",
   "execution_count": 19,
   "metadata": {},
   "outputs": [],
   "source": [
    "#heat map of the station data \n",
    "m = folium.Map(\n",
    "    location=[39.95, -75.18],\n",
    "    tiles='Cartodb Positron',\n",
    "    zoom_start=13\n",
    ")\n",
    "\n",
    "# add heat map\n",
    "HeatMap(coordinates).add_to(m)\n",
    "m.save('heatmap_stations.html')"
   ]
  },
  {
   "cell_type": "code",
   "execution_count": 20,
   "metadata": {},
   "outputs": [
    {
     "data": {
      "text/html": [
       "<div style=\"width:100%;\"><div style=\"position:relative;width:100%;height:0;padding-bottom:60%;\"><iframe src=\"data:text/html;charset=utf-8;base64,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\" style=\"position:absolute;width:100%;height:100%;left:0;top:0;border:none !important;\" allowfullscreen webkitallowfullscreen mozallowfullscreen></iframe></div></div>"
      ],
      "text/plain": [
       "<folium.folium.Map at 0x124581da0>"
      ]
     },
     "execution_count": 20,
     "metadata": {},
     "output_type": "execute_result"
    }
   ],
   "source": [
    "m"
   ]
  }
 ],
 "metadata": {
  "kernelspec": {
   "display_name": "Python 3",
   "language": "python",
   "name": "python3"
  },
  "language_info": {
   "codemirror_mode": {
    "name": "ipython",
    "version": 3
   },
   "file_extension": ".py",
   "mimetype": "text/x-python",
   "name": "python",
   "nbconvert_exporter": "python",
   "pygments_lexer": "ipython3",
   "version": "3.7.1"
  }
 },
 "nbformat": 4,
 "nbformat_minor": 2
}
